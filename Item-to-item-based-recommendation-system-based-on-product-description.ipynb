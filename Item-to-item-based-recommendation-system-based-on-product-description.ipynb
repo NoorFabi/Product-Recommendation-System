{
  "nbformat": 4,
  "nbformat_minor": 0,
  "metadata": {
    "colab": {
      "provenance": [],
      "gpuType": "T4"
    },
    "kernelspec": {
      "name": "python3",
      "display_name": "Python 3"
    },
    "language_info": {
      "name": "python"
    },
    "accelerator": "GPU"
  },
  "cells": [
    {
      "cell_type": "markdown",
      "source": [
        "# Item to item based recommendation system based on product description"
      ],
      "metadata": {
        "id": "qClyTENmfJU5"
      }
    },
    {
      "cell_type": "markdown",
      "source": [
        "For a business without any user-item purchase history, a search engine based recommendation system can be designed for users. The product recommendations can be based on textual clustering analysis given in product description."
      ],
      "metadata": {
        "id": "ko18q01IfIGe"
      }
    },
    {
      "cell_type": "code",
      "source": [
        "# Importing libraries\n",
        "import pandas as pd\n",
        "from sklearn.feature_extraction.text import TfidfVectorizer, CountVectorizer\n",
        "from sklearn.neighbors import NearestNeighbors\n",
        "from sklearn.cluster import KMeans\n",
        "from sklearn.metrics import adjusted_rand_score"
      ],
      "metadata": {
        "id": "2nWkMj24fOMo"
      },
      "execution_count": null,
      "outputs": []
    },
    {
      "cell_type": "code",
      "source": [
        "df = pd.read_csv('/content/amazon.csv')"
      ],
      "metadata": {
        "id": "owrbL2zsfXV_"
      },
      "execution_count": null,
      "outputs": []
    },
    {
      "cell_type": "code",
      "source": [
        "df.head(2)"
      ],
      "metadata": {
        "colab": {
          "base_uri": "https://localhost:8080/",
          "height": 298
        },
        "id": "xJ34uylBf3Ey",
        "outputId": "49c6711d-73e2-4063-c401-6529d28cc3c3"
      },
      "execution_count": null,
      "outputs": [
        {
          "output_type": "execute_result",
          "data": {
            "text/plain": [
              "   product_id                                       product_name  \\\n",
              "0  B07JW9H4J1  Wayona Nylon Braided USB to Lightning Fast Cha...   \n",
              "1  B098NS6PVG  Ambrane Unbreakable 60W / 3A Fast Charging 1.5...   \n",
              "\n",
              "                                            category discounted_price  \\\n",
              "0  Computers&Accessories|Accessories&Peripherals|...             ₹399   \n",
              "1  Computers&Accessories|Accessories&Peripherals|...             ₹199   \n",
              "\n",
              "  actual_price discount_percentage rating rating_count  \\\n",
              "0       ₹1,099                 64%    4.2       24,269   \n",
              "1         ₹349                 43%    4.0       43,994   \n",
              "\n",
              "                                       about_product  \\\n",
              "0  High Compatibility : Compatible With iPhone 12...   \n",
              "1  Compatible with all Type C enabled devices, be...   \n",
              "\n",
              "                                             user_id  \\\n",
              "0  AG3D6O4STAQKAY2UVGEUV46KN35Q,AHMY5CWJMMK5BJRBB...   \n",
              "1  AECPFYFQVRUWC3KGNLJIOREFP5LQ,AGYYVPDD7YG7FYNBX...   \n",
              "\n",
              "                                           user_name  \\\n",
              "0  Manav,Adarsh gupta,Sundeep,S.Sayeed Ahmed,jasp...   \n",
              "1  ArdKn,Nirbhay kumar,Sagar Viswanathan,Asp,Plac...   \n",
              "\n",
              "                                           review_id  \\\n",
              "0  R3HXWT0LRP0NMF,R2AJM3LFTLZHFO,R6AQJGUP6P86,R1K...   \n",
              "1  RGIQEG07R9HS2,R1SMWZQ86XIN8U,R2J3Y1WL29GWDE,RY...   \n",
              "\n",
              "                                        review_title  \\\n",
              "0  Satisfied,Charging is really fast,Value for mo...   \n",
              "1  A Good Braided Cable for Your Type C Device,Go...   \n",
              "\n",
              "                                      review_content  \\\n",
              "0  Looks durable Charging is fine tooNo complains...   \n",
              "1  I ordered this cable to connect my phone to An...   \n",
              "\n",
              "                                            img_link  \\\n",
              "0  https://m.media-amazon.com/images/W/WEBP_40237...   \n",
              "1  https://m.media-amazon.com/images/W/WEBP_40237...   \n",
              "\n",
              "                                        product_link  \n",
              "0  https://www.amazon.in/Wayona-Braided-WN3LG1-Sy...  \n",
              "1  https://www.amazon.in/Ambrane-Unbreakable-Char...  "
            ],
            "text/html": [
              "\n",
              "\n",
              "  <div id=\"df-efab612d-e548-4a79-ba35-94fac1c03652\">\n",
              "    <div class=\"colab-df-container\">\n",
              "      <div>\n",
              "<style scoped>\n",
              "    .dataframe tbody tr th:only-of-type {\n",
              "        vertical-align: middle;\n",
              "    }\n",
              "\n",
              "    .dataframe tbody tr th {\n",
              "        vertical-align: top;\n",
              "    }\n",
              "\n",
              "    .dataframe thead th {\n",
              "        text-align: right;\n",
              "    }\n",
              "</style>\n",
              "<table border=\"1\" class=\"dataframe\">\n",
              "  <thead>\n",
              "    <tr style=\"text-align: right;\">\n",
              "      <th></th>\n",
              "      <th>product_id</th>\n",
              "      <th>product_name</th>\n",
              "      <th>category</th>\n",
              "      <th>discounted_price</th>\n",
              "      <th>actual_price</th>\n",
              "      <th>discount_percentage</th>\n",
              "      <th>rating</th>\n",
              "      <th>rating_count</th>\n",
              "      <th>about_product</th>\n",
              "      <th>user_id</th>\n",
              "      <th>user_name</th>\n",
              "      <th>review_id</th>\n",
              "      <th>review_title</th>\n",
              "      <th>review_content</th>\n",
              "      <th>img_link</th>\n",
              "      <th>product_link</th>\n",
              "    </tr>\n",
              "  </thead>\n",
              "  <tbody>\n",
              "    <tr>\n",
              "      <th>0</th>\n",
              "      <td>B07JW9H4J1</td>\n",
              "      <td>Wayona Nylon Braided USB to Lightning Fast Cha...</td>\n",
              "      <td>Computers&amp;Accessories|Accessories&amp;Peripherals|...</td>\n",
              "      <td>₹399</td>\n",
              "      <td>₹1,099</td>\n",
              "      <td>64%</td>\n",
              "      <td>4.2</td>\n",
              "      <td>24,269</td>\n",
              "      <td>High Compatibility : Compatible With iPhone 12...</td>\n",
              "      <td>AG3D6O4STAQKAY2UVGEUV46KN35Q,AHMY5CWJMMK5BJRBB...</td>\n",
              "      <td>Manav,Adarsh gupta,Sundeep,S.Sayeed Ahmed,jasp...</td>\n",
              "      <td>R3HXWT0LRP0NMF,R2AJM3LFTLZHFO,R6AQJGUP6P86,R1K...</td>\n",
              "      <td>Satisfied,Charging is really fast,Value for mo...</td>\n",
              "      <td>Looks durable Charging is fine tooNo complains...</td>\n",
              "      <td>https://m.media-amazon.com/images/W/WEBP_40237...</td>\n",
              "      <td>https://www.amazon.in/Wayona-Braided-WN3LG1-Sy...</td>\n",
              "    </tr>\n",
              "    <tr>\n",
              "      <th>1</th>\n",
              "      <td>B098NS6PVG</td>\n",
              "      <td>Ambrane Unbreakable 60W / 3A Fast Charging 1.5...</td>\n",
              "      <td>Computers&amp;Accessories|Accessories&amp;Peripherals|...</td>\n",
              "      <td>₹199</td>\n",
              "      <td>₹349</td>\n",
              "      <td>43%</td>\n",
              "      <td>4.0</td>\n",
              "      <td>43,994</td>\n",
              "      <td>Compatible with all Type C enabled devices, be...</td>\n",
              "      <td>AECPFYFQVRUWC3KGNLJIOREFP5LQ,AGYYVPDD7YG7FYNBX...</td>\n",
              "      <td>ArdKn,Nirbhay kumar,Sagar Viswanathan,Asp,Plac...</td>\n",
              "      <td>RGIQEG07R9HS2,R1SMWZQ86XIN8U,R2J3Y1WL29GWDE,RY...</td>\n",
              "      <td>A Good Braided Cable for Your Type C Device,Go...</td>\n",
              "      <td>I ordered this cable to connect my phone to An...</td>\n",
              "      <td>https://m.media-amazon.com/images/W/WEBP_40237...</td>\n",
              "      <td>https://www.amazon.in/Ambrane-Unbreakable-Char...</td>\n",
              "    </tr>\n",
              "  </tbody>\n",
              "</table>\n",
              "</div>\n",
              "      <button class=\"colab-df-convert\" onclick=\"convertToInteractive('df-efab612d-e548-4a79-ba35-94fac1c03652')\"\n",
              "              title=\"Convert this dataframe to an interactive table.\"\n",
              "              style=\"display:none;\">\n",
              "\n",
              "  <svg xmlns=\"http://www.w3.org/2000/svg\" height=\"24px\"viewBox=\"0 0 24 24\"\n",
              "       width=\"24px\">\n",
              "    <path d=\"M0 0h24v24H0V0z\" fill=\"none\"/>\n",
              "    <path d=\"M18.56 5.44l.94 2.06.94-2.06 2.06-.94-2.06-.94-.94-2.06-.94 2.06-2.06.94zm-11 1L8.5 8.5l.94-2.06 2.06-.94-2.06-.94L8.5 2.5l-.94 2.06-2.06.94zm10 10l.94 2.06.94-2.06 2.06-.94-2.06-.94-.94-2.06-.94 2.06-2.06.94z\"/><path d=\"M17.41 7.96l-1.37-1.37c-.4-.4-.92-.59-1.43-.59-.52 0-1.04.2-1.43.59L10.3 9.45l-7.72 7.72c-.78.78-.78 2.05 0 2.83L4 21.41c.39.39.9.59 1.41.59.51 0 1.02-.2 1.41-.59l7.78-7.78 2.81-2.81c.8-.78.8-2.07 0-2.86zM5.41 20L4 18.59l7.72-7.72 1.47 1.35L5.41 20z\"/>\n",
              "  </svg>\n",
              "      </button>\n",
              "\n",
              "\n",
              "\n",
              "    <div id=\"df-b0e0fa85-ff1e-413c-b75c-e78d21871f99\">\n",
              "      <button class=\"colab-df-quickchart\" onclick=\"quickchart('df-b0e0fa85-ff1e-413c-b75c-e78d21871f99')\"\n",
              "              title=\"Suggest charts.\"\n",
              "              style=\"display:none;\">\n",
              "\n",
              "<svg xmlns=\"http://www.w3.org/2000/svg\" height=\"24px\"viewBox=\"0 0 24 24\"\n",
              "     width=\"24px\">\n",
              "    <g>\n",
              "        <path d=\"M19 3H5c-1.1 0-2 .9-2 2v14c0 1.1.9 2 2 2h14c1.1 0 2-.9 2-2V5c0-1.1-.9-2-2-2zM9 17H7v-7h2v7zm4 0h-2V7h2v10zm4 0h-2v-4h2v4z\"/>\n",
              "    </g>\n",
              "</svg>\n",
              "      </button>\n",
              "    </div>\n",
              "\n",
              "<style>\n",
              "  .colab-df-quickchart {\n",
              "    background-color: #E8F0FE;\n",
              "    border: none;\n",
              "    border-radius: 50%;\n",
              "    cursor: pointer;\n",
              "    display: none;\n",
              "    fill: #1967D2;\n",
              "    height: 32px;\n",
              "    padding: 0 0 0 0;\n",
              "    width: 32px;\n",
              "  }\n",
              "\n",
              "  .colab-df-quickchart:hover {\n",
              "    background-color: #E2EBFA;\n",
              "    box-shadow: 0px 1px 2px rgba(60, 64, 67, 0.3), 0px 1px 3px 1px rgba(60, 64, 67, 0.15);\n",
              "    fill: #174EA6;\n",
              "  }\n",
              "\n",
              "  [theme=dark] .colab-df-quickchart {\n",
              "    background-color: #3B4455;\n",
              "    fill: #D2E3FC;\n",
              "  }\n",
              "\n",
              "  [theme=dark] .colab-df-quickchart:hover {\n",
              "    background-color: #434B5C;\n",
              "    box-shadow: 0px 1px 3px 1px rgba(0, 0, 0, 0.15);\n",
              "    filter: drop-shadow(0px 1px 2px rgba(0, 0, 0, 0.3));\n",
              "    fill: #FFFFFF;\n",
              "  }\n",
              "</style>\n",
              "\n",
              "    <script>\n",
              "      async function quickchart(key) {\n",
              "        const containerElement = document.querySelector('#' + key);\n",
              "        const charts = await google.colab.kernel.invokeFunction(\n",
              "            'suggestCharts', [key], {});\n",
              "      }\n",
              "    </script>\n",
              "\n",
              "      <script>\n",
              "\n",
              "function displayQuickchartButton(domScope) {\n",
              "  let quickchartButtonEl =\n",
              "    domScope.querySelector('#df-b0e0fa85-ff1e-413c-b75c-e78d21871f99 button.colab-df-quickchart');\n",
              "  quickchartButtonEl.style.display =\n",
              "    google.colab.kernel.accessAllowed ? 'block' : 'none';\n",
              "}\n",
              "\n",
              "        displayQuickchartButton(document);\n",
              "      </script>\n",
              "      <style>\n",
              "    .colab-df-container {\n",
              "      display:flex;\n",
              "      flex-wrap:wrap;\n",
              "      gap: 12px;\n",
              "    }\n",
              "\n",
              "    .colab-df-convert {\n",
              "      background-color: #E8F0FE;\n",
              "      border: none;\n",
              "      border-radius: 50%;\n",
              "      cursor: pointer;\n",
              "      display: none;\n",
              "      fill: #1967D2;\n",
              "      height: 32px;\n",
              "      padding: 0 0 0 0;\n",
              "      width: 32px;\n",
              "    }\n",
              "\n",
              "    .colab-df-convert:hover {\n",
              "      background-color: #E2EBFA;\n",
              "      box-shadow: 0px 1px 2px rgba(60, 64, 67, 0.3), 0px 1px 3px 1px rgba(60, 64, 67, 0.15);\n",
              "      fill: #174EA6;\n",
              "    }\n",
              "\n",
              "    [theme=dark] .colab-df-convert {\n",
              "      background-color: #3B4455;\n",
              "      fill: #D2E3FC;\n",
              "    }\n",
              "\n",
              "    [theme=dark] .colab-df-convert:hover {\n",
              "      background-color: #434B5C;\n",
              "      box-shadow: 0px 1px 3px 1px rgba(0, 0, 0, 0.15);\n",
              "      filter: drop-shadow(0px 1px 2px rgba(0, 0, 0, 0.3));\n",
              "      fill: #FFFFFF;\n",
              "    }\n",
              "  </style>\n",
              "\n",
              "      <script>\n",
              "        const buttonEl =\n",
              "          document.querySelector('#df-efab612d-e548-4a79-ba35-94fac1c03652 button.colab-df-convert');\n",
              "        buttonEl.style.display =\n",
              "          google.colab.kernel.accessAllowed ? 'block' : 'none';\n",
              "\n",
              "        async function convertToInteractive(key) {\n",
              "          const element = document.querySelector('#df-efab612d-e548-4a79-ba35-94fac1c03652');\n",
              "          const dataTable =\n",
              "            await google.colab.kernel.invokeFunction('convertToInteractive',\n",
              "                                                     [key], {});\n",
              "          if (!dataTable) return;\n",
              "\n",
              "          const docLinkHtml = 'Like what you see? Visit the ' +\n",
              "            '<a target=\"_blank\" href=https://colab.research.google.com/notebooks/data_table.ipynb>data table notebook</a>'\n",
              "            + ' to learn more about interactive tables.';\n",
              "          element.innerHTML = '';\n",
              "          dataTable['output_type'] = 'display_data';\n",
              "          await google.colab.output.renderOutput(dataTable, element);\n",
              "          const docLink = document.createElement('div');\n",
              "          docLink.innerHTML = docLinkHtml;\n",
              "          element.appendChild(docLink);\n",
              "        }\n",
              "      </script>\n",
              "    </div>\n",
              "  </div>\n"
            ]
          },
          "metadata": {},
          "execution_count": 3
        }
      ]
    },
    {
      "cell_type": "code",
      "source": [
        "df.shape"
      ],
      "metadata": {
        "colab": {
          "base_uri": "https://localhost:8080/"
        },
        "id": "ztEAWChFf9z4",
        "outputId": "70370404-9268-4462-a19c-ce5a5646ea22"
      },
      "execution_count": null,
      "outputs": [
        {
          "output_type": "execute_result",
          "data": {
            "text/plain": [
              "(1465, 16)"
            ]
          },
          "metadata": {},
          "execution_count": 4
        }
      ]
    },
    {
      "cell_type": "code",
      "source": [
        "df.isnull().sum()"
      ],
      "metadata": {
        "colab": {
          "base_uri": "https://localhost:8080/"
        },
        "id": "3fSrU5bLgpeo",
        "outputId": "42479af2-5584-403c-9008-aab95c281d75"
      },
      "execution_count": null,
      "outputs": [
        {
          "output_type": "execute_result",
          "data": {
            "text/plain": [
              "product_id             0\n",
              "product_name           0\n",
              "category               0\n",
              "discounted_price       0\n",
              "actual_price           0\n",
              "discount_percentage    0\n",
              "rating                 0\n",
              "rating_count           2\n",
              "about_product          0\n",
              "user_id                0\n",
              "user_name              0\n",
              "review_id              0\n",
              "review_title           0\n",
              "review_content         0\n",
              "img_link               0\n",
              "product_link           0\n",
              "dtype: int64"
            ]
          },
          "metadata": {},
          "execution_count": 5
        }
      ]
    },
    {
      "cell_type": "code",
      "source": [
        "df.duplicated().sum()"
      ],
      "metadata": {
        "colab": {
          "base_uri": "https://localhost:8080/"
        },
        "id": "dNCzJ_LtgwSj",
        "outputId": "81b4eb34-2c67-4702-e0be-0ab9d50f1229"
      },
      "execution_count": null,
      "outputs": [
        {
          "output_type": "execute_result",
          "data": {
            "text/plain": [
              "0"
            ]
          },
          "metadata": {},
          "execution_count": 6
        }
      ]
    },
    {
      "cell_type": "code",
      "source": [
        "df[\"product_name\"].head(10)"
      ],
      "metadata": {
        "colab": {
          "base_uri": "https://localhost:8080/"
        },
        "id": "12RQf2UTg1yI",
        "outputId": "35677bbd-c85a-4bbd-d4ed-75dcee58605a"
      },
      "execution_count": null,
      "outputs": [
        {
          "output_type": "execute_result",
          "data": {
            "text/plain": [
              "0    Wayona Nylon Braided USB to Lightning Fast Cha...\n",
              "1    Ambrane Unbreakable 60W / 3A Fast Charging 1.5...\n",
              "2    Sounce Fast Phone Charging Cable & Data Sync U...\n",
              "3    boAt Deuce USB 300 2 in 1 Type-C & Micro USB S...\n",
              "4    Portronics Konnect L 1.2M Fast Charging 3A 8 P...\n",
              "5    pTron Solero TB301 3A Type-C Data and Fast Cha...\n",
              "6    boAt Micro USB 55 Tangle-free, Sturdy Micro US...\n",
              "7               MI Usb Type-C Cable Smartphone (Black)\n",
              "8    TP-Link USB WiFi Adapter for PC(TL-WN725N), N1...\n",
              "9    Ambrane Unbreakable 60W / 3A Fast Charging 1.5...\n",
              "Name: product_name, dtype: object"
            ]
          },
          "metadata": {},
          "execution_count": 7
        }
      ]
    },
    {
      "cell_type": "markdown",
      "source": [
        "Converting the text in product name into numerical data for analysis"
      ],
      "metadata": {
        "id": "rA8s2PkWhnyS"
      }
    },
    {
      "cell_type": "code",
      "source": [
        "!pip install emoji"
      ],
      "metadata": {
        "id": "WmAkXL01imPM",
        "outputId": "f3da8b5e-db40-4552-d90c-cb95e5c20a46",
        "colab": {
          "base_uri": "https://localhost:8080/"
        }
      },
      "execution_count": null,
      "outputs": [
        {
          "output_type": "stream",
          "name": "stdout",
          "text": [
            "Collecting emoji\n",
            "  Downloading emoji-2.6.0.tar.gz (356 kB)\n",
            "\u001b[?25l     \u001b[90m━━━━━━━━━━━━━━━━━━━━━━━━━━━━━━━━━━━━━━━━\u001b[0m \u001b[32m0.0/356.6 kB\u001b[0m \u001b[31m?\u001b[0m eta \u001b[36m-:--:--\u001b[0m\r\u001b[2K     \u001b[91m━━━━━━━━━━━━━━━\u001b[0m\u001b[91m╸\u001b[0m\u001b[90m━━━━━━━━━━━━━━━━━━━━━━━\u001b[0m \u001b[32m143.4/356.6 kB\u001b[0m \u001b[31m4.4 MB/s\u001b[0m eta \u001b[36m0:00:01\u001b[0m\r\u001b[2K     \u001b[90m━━━━━━━━━━━━━━━━━━━━━━━━━━━━━━━━━━━━━━━\u001b[0m \u001b[32m356.6/356.6 kB\u001b[0m \u001b[31m5.8 MB/s\u001b[0m eta \u001b[36m0:00:00\u001b[0m\n",
            "\u001b[?25h  Preparing metadata (setup.py) ... \u001b[?25l\u001b[?25hdone\n",
            "Building wheels for collected packages: emoji\n",
            "  Building wheel for emoji (setup.py) ... \u001b[?25l\u001b[?25hdone\n",
            "  Created wheel for emoji: filename=emoji-2.6.0-py2.py3-none-any.whl size=351311 sha256=ca88e8c635f78630ae673caefa3c548950705559c8b237c88211d449d1522709\n",
            "  Stored in directory: /root/.cache/pip/wheels/ea/0b/64/114bc939d0083621aa41521e21be246c888260b8aa21e6c1ad\n",
            "Successfully built emoji\n",
            "Installing collected packages: emoji\n",
            "Successfully installed emoji-2.6.0\n"
          ]
        }
      ]
    },
    {
      "cell_type": "code",
      "source": [
        "import nltk\n",
        "import emoji\n",
        "import re\n",
        "#regular expression ... use for cleaning up\n",
        "import string\n",
        "from nltk.corpus import stopwords\n",
        "# Remove useless words\n",
        "from nltk.stem.lancaster import LancasterStemmer\n",
        "#Convert words to base form; aggressive\n",
        "# Import packages that help us to create document-term matrix\n",
        "from sklearn.feature_extraction.text import CountVectorizer, TfidfVectorizer\n",
        "#help us to split sentence into token"
      ],
      "metadata": {
        "id": "5V9Q3o7Uh1ox"
      },
      "execution_count": null,
      "outputs": []
    },
    {
      "cell_type": "code",
      "source": [
        "# remove all numbers with letters attached to them\n",
        "alphanumeric = lambda x: re.sub('\\w*\\d\\w*', ' ', x)\n",
        "\n",
        "# '[%s]' % re.escape(string.punctuation),' ' - replace punctuation with white space\n",
        "# .lower() - convert all strings to lowercase\n",
        "punc_lower = lambda x: re.sub('[%s]' % re.escape(string.punctuation), ' ', x.lower())\n",
        "\n",
        "# Remove all '\\n' in the string and replace it with a space\n",
        "remove_n = lambda x: re.sub(\"\\n\", \" \", x)\n",
        "\n",
        "# Remove all non-ascii characters\n",
        "remove_non_ascii = lambda x: re.sub(r'[^\\x00-\\x7f]',r' ', x)\n",
        "\n",
        "# Apply lambda functions to clean the specified columns\n",
        "df[\"product_name\"] = df[\"product_name\"].map(alphanumeric).map(punc_lower).map(remove_n).map(remove_non_ascii)"
      ],
      "metadata": {
        "id": "B7mnVS2LjCiK"
      },
      "execution_count": null,
      "outputs": []
    },
    {
      "cell_type": "code",
      "source": [
        "import nltk\n",
        "nltk.download('stopwords')"
      ],
      "metadata": {
        "id": "V3V_UO0jjjs3",
        "outputId": "421e35c6-35d8-470c-c552-ad7047358b80",
        "colab": {
          "base_uri": "https://localhost:8080/"
        }
      },
      "execution_count": null,
      "outputs": [
        {
          "output_type": "stream",
          "name": "stderr",
          "text": [
            "[nltk_data] Downloading package stopwords to /root/nltk_data...\n",
            "[nltk_data]   Unzipping corpora/stopwords.zip.\n"
          ]
        },
        {
          "output_type": "execute_result",
          "data": {
            "text/plain": [
              "True"
            ]
          },
          "metadata": {},
          "execution_count": 11
        }
      ]
    },
    {
      "cell_type": "code",
      "source": [
        "from nltk.corpus import stopwords\n",
        "stop = stopwords.words('english')\n",
        "\n",
        "# Apply removal of stopwords to the specified columns\n",
        "df[\"product_name\"] = df[\"product_name\"].apply(lambda x: ' '.join([word for word in x.split() if word not in (stop)]))"
      ],
      "metadata": {
        "id": "yrzKXT7YjUJB"
      },
      "execution_count": null,
      "outputs": []
    },
    {
      "cell_type": "code",
      "source": [
        "from nltk.stem.porter import PorterStemmer\n",
        "ps = PorterStemmer()"
      ],
      "metadata": {
        "id": "FmYiyFOmAXjr"
      },
      "execution_count": null,
      "outputs": []
    },
    {
      "cell_type": "code",
      "source": [
        "def stem(text):\n",
        "    y = []\n",
        "    for i in text.split():\n",
        "        y.append(ps.stem(i))\n",
        "    return \" \".join(y)"
      ],
      "metadata": {
        "id": "VHUJciFXAaS2"
      },
      "execution_count": null,
      "outputs": []
    },
    {
      "cell_type": "code",
      "source": [
        "df[\"product_name\"] = df[\"product_name\"].apply(stem)"
      ],
      "metadata": {
        "id": "C0WZ2fTJAfyH"
      },
      "execution_count": null,
      "outputs": []
    },
    {
      "cell_type": "code",
      "source": [
        "vectorizer = TfidfVectorizer(stop_words='english')"
      ],
      "metadata": {
        "id": "kR6ZYBFSkmYU"
      },
      "execution_count": null,
      "outputs": []
    },
    {
      "cell_type": "code",
      "source": [
        "X1 = vectorizer.fit_transform(df[\"product_name\"])"
      ],
      "metadata": {
        "id": "27LzNuGDkzx5"
      },
      "execution_count": null,
      "outputs": []
    },
    {
      "cell_type": "code",
      "source": [
        "X1"
      ],
      "metadata": {
        "colab": {
          "base_uri": "https://localhost:8080/"
        },
        "id": "juQqYSkVlPqb",
        "outputId": "5d9590cf-4bd8-4a91-aae4-557f1cb8cf81"
      },
      "execution_count": null,
      "outputs": [
        {
          "output_type": "execute_result",
          "data": {
            "text/plain": [
              "<1465x2531 sparse matrix of type '<class 'numpy.float64'>'\n",
              "\twith 20753 stored elements in Compressed Sparse Row format>"
            ]
          },
          "metadata": {},
          "execution_count": 18
        }
      ]
    },
    {
      "cell_type": "code",
      "source": [
        "X = X1"
      ],
      "metadata": {
        "id": "UZJetggsKxm7"
      },
      "execution_count": null,
      "outputs": []
    },
    {
      "cell_type": "code",
      "source": [
        "# finding wcss value for different number of clusters\n",
        "\n",
        "wcss = []\n",
        "\n",
        "for i in range(1,21):\n",
        "  kmeans = KMeans(n_clusters=i, init='k-means++', random_state=15)\n",
        "  kmeans.fit(X)\n",
        "\n",
        "  wcss.append(kmeans.inertia_)"
      ],
      "metadata": {
        "id": "yzauNdLTKxp-",
        "colab": {
          "base_uri": "https://localhost:8080/"
        },
        "outputId": "4d12540a-21be-4617-acc8-5b3cc391a0a5"
      },
      "execution_count": null,
      "outputs": [
        {
          "output_type": "stream",
          "name": "stderr",
          "text": [
            "/usr/local/lib/python3.10/dist-packages/sklearn/cluster/_kmeans.py:870: FutureWarning: The default value of `n_init` will change from 10 to 'auto' in 1.4. Set the value of `n_init` explicitly to suppress the warning\n",
            "  warnings.warn(\n"
          ]
        }
      ]
    },
    {
      "cell_type": "code",
      "source": [
        "# plot an elbow graph\n",
        "import seaborn as sns\n",
        "import matplotlib.pyplot as plt\n",
        "sns.set()\n",
        "plt.plot(range(1,21), wcss)\n",
        "plt.title('The Elbow Point Graph')\n",
        "plt.xlabel('Number of Clusters')\n",
        "plt.ylabel('WCSS')\n",
        "plt.show()"
      ],
      "metadata": {
        "colab": {
          "base_uri": "https://localhost:8080/",
          "height": 480
        },
        "id": "xv-_2d5HKxsr",
        "outputId": "699703eb-ffb6-42c2-9523-729d25a97d4e"
      },
      "execution_count": null,
      "outputs": [
        {
          "output_type": "display_data",
          "data": {
            "text/plain": [
              "<Figure size 640x480 with 1 Axes>"
            ],
            "image/png": "[encoded data removed]"
          },
          "metadata": {}
        }
      ]
    },
    {
      "cell_type": "code",
      "source": [],
      "metadata": {
        "id": "3P6ksXFyKxvd"
      },
      "execution_count": null,
      "outputs": []
    },
    {
      "cell_type": "code",
      "source": [],
      "metadata": {
        "id": "cMUTLaJVKxyo"
      },
      "execution_count": null,
      "outputs": []
    },
    {
      "cell_type": "code",
      "source": [
        "# Fitting K-Means to the dataset\n",
        "import matplotlib.pyplot as plt\n",
        "X=X1\n",
        "#init: Determines the initialization method for the centroids. 'k-means++' is a popular initialization method that improves the convergence of the algorithm.\n",
        "kmeans = KMeans(n_clusters = 10, init = 'k-means++', random_state=15)\n",
        "y_kmeans = kmeans.fit_predict(X)\n",
        "plt.plot(y_kmeans, \".\")\n",
        "plt.show()"
      ],
      "metadata": {
        "colab": {
          "base_uri": "https://localhost:8080/",
          "height": 491
        },
        "id": "_rds-Daol0wh",
        "outputId": "6af0e90f-e72f-489e-9d5b-e4e9971becbc"
      },
      "execution_count": null,
      "outputs": [
        {
          "output_type": "stream",
          "name": "stderr",
          "text": [
            "/usr/local/lib/python3.10/dist-packages/sklearn/cluster/_kmeans.py:870: FutureWarning: The default value of `n_init` will change from 10 to 'auto' in 1.4. Set the value of `n_init` explicitly to suppress the warning\n",
            "  warnings.warn(\n"
          ]
        },
        {
          "output_type": "display_data",
          "data": {
            "text/plain": [
              "<Figure size 640x480 with 1 Axes>"
            ],
            "image/png": "[encoded data removed]"
          },
          "metadata": {}
        }
      ]
    },
    {
      "cell_type": "markdown",
      "source": [
        "Imagine you have a bunch of data points, like different houses with their areas and prices. You want to find groups of similar houses so you can understand the market better. K-means is like a smart way to do this.\n",
        "\n",
        "true_k = 10: You decide you want to find 10 different groups of houses.\n",
        "\n",
        "model = KMeans(...): You're setting up a special tool called K-means. It's like a machine that will group the houses for you. You're telling it to find 10 groups (n_clusters=true_k).\n",
        "\n",
        "init='k-means++': This is how the tool starts. It carefully picks the first house to begin the groups.\n",
        "\n",
        "max_iter=100: The tool will try to improve the groups by moving houses around up to 100 times. Imagine it rearranging the houses to make the groups better.\n",
        "\n",
        "n_init=1: The tool will try this process once. But sometimes, the first try isn't the best, so you might try again with different starting points.\n",
        "\n",
        "random_state=15: This makes sure that every time you use the tool, you get the same results. It's like using a fixed random number to make things predictable.\n",
        "\n",
        "model.fit(X1): Now you're telling the tool to actually do the work. You give it the houses' data (X1) and it starts grouping them based on their similarities. It figures out which houses are similar and puts them in the same group.\n",
        "\n",
        "In the end, you get 10 groups of houses, where the houses inside each group are similar to each other in terms of their areas and prices. This helps you understand the different types of houses in the market and make better decisions."
      ],
      "metadata": {
        "id": "OT95fdUtNetk"
      }
    },
    {
      "cell_type": "code",
      "source": [],
      "metadata": {
        "id": "FQpPhnBBMxsF"
      },
      "execution_count": null,
      "outputs": []
    },
    {
      "cell_type": "code",
      "source": [
        "#The print_cluster() function you provided prints the top terms for a given cluster\n",
        "def print_cluster(i):\n",
        "    print(\"Cluster %d:\" % i),\n",
        "    for ind in order_centroids[i, :10]:\n",
        "        print(' %s' % terms[ind]),\n",
        "    print"
      ],
      "metadata": {
        "id": "1blQfscYsOl-"
      },
      "execution_count": null,
      "outputs": []
    },
    {
      "cell_type": "code",
      "source": [
        "#The provided code is performing K-means clustering on the data (X1) and\n",
        "#printing the top terms for each cluster.\n",
        "\n",
        "true_k = 10\n",
        "#max_iter: defines the maximum number of times the K-means algorithm will iterate to optimize the cluster centroids.\n",
        "#n_init: Specifies the number of times the K-means algorithm will be run with different centroid seeds. It helps in finding better cluster assignments by avoiding poor initialization.\n",
        "model = KMeans(n_clusters=true_k, init='k-means++', max_iter=100, n_init=1, random_state=15)\n",
        "model.fit(X1)\n",
        "\n",
        "print(\"Top terms per cluster:\")\n",
        "order_centroids = model.cluster_centers_.argsort()[:, ::-1] #Calculates the indices that would sort the cluster centers in descending order.\n",
        "terms = vectorizer.get_feature_names_out()\n",
        "for i in range(true_k):\n",
        "    print_cluster(i)"
      ],
      "metadata": {
        "colab": {
          "base_uri": "https://localhost:8080/"
        },
        "id": "wFWIc-__sPGr",
        "outputId": "e85b01f2-d941-49ef-8644-576c8dca9e20"
      },
      "execution_count": null,
      "outputs": [
        {
          "output_type": "stream",
          "name": "stdout",
          "text": [
            "Top terms per cluster:\n",
            "Cluster 0:\n",
            " laptop\n",
            " mous\n",
            " wireless\n",
            " usb\n",
            " pc\n",
            " mac\n",
            " stand\n",
            " black\n",
            " adapt\n",
            " holder\n",
            "Cluster 1:\n",
            " charg\n",
            " cabl\n",
            " usb\n",
            " fast\n",
            " data\n",
            " type\n",
            " sync\n",
            " meter\n",
            " braid\n",
            " micro\n",
            "Cluster 2:\n",
            " watch\n",
            " sport\n",
            " mode\n",
            " rate\n",
            " monitor\n",
            " face\n",
            " smart\n",
            " bluetooth\n",
            " display\n",
            " smartwatch\n",
            "Cluster 3:\n",
            " heater\n",
            " water\n",
            " room\n",
            " watt\n",
            " white\n",
            " geyser\n",
            " instant\n",
            " heat\n",
            " fan\n",
            " isi\n",
            "Cluster 4:\n",
            " cm\n",
            " tv\n",
            " led\n",
            " inch\n",
            " hd\n",
            " smart\n",
            " seri\n",
            " android\n",
            " readi\n",
            " black\n",
            "Cluster 5:\n",
            " ram\n",
            " storag\n",
            " batteri\n",
            " redmi\n",
            " galaxi\n",
            " upto\n",
            " snapdragon\n",
            " display\n",
            " iqoo\n",
            " samsung\n",
            "Cluster 6:\n",
            " ear\n",
            " mic\n",
            " wire\n",
            " earphon\n",
            " headphon\n",
            " bluetooth\n",
            " boat\n",
            " bass\n",
            " basshead\n",
            " black\n",
            "Cluster 7:\n",
            " type\n",
            " usb\n",
            " cabl\n",
            " charg\n",
            " charger\n",
            " fast\n",
            " samsung\n",
            " smartphon\n",
            " pro\n",
            " adapt\n",
            "Cluster 8:\n",
            " electr\n",
            " kettl\n",
            " lint\n",
            " remov\n",
            " steel\n",
            " stainless\n",
            " egg\n",
            " boil\n",
            " coffe\n",
            " litr\n",
            "Cluster 9:\n",
            " remot\n",
            " watt\n",
            " black\n",
            " mixer\n",
            " tv\n",
            " grinder\n",
            " jar\n",
            " white\n",
            " iron\n",
            " control\n"
          ]
        }
      ]
    },
    {
      "cell_type": "markdown",
      "source": [
        "Imagine after using the K-means tool, you've grouped houses based on their similarities. Now, you want to see what makes each group unique, like what features (like size, price, etc.) are most important for each group. This is what this code does:\n",
        "\n",
        "print(\"Top terms per cluster:\"): It's like telling the computer that you want to see the important things for each group.\n",
        "\n",
        "order_centroids = model.cluster_centers_.argsort()[:, ::-1]: Imagine you have a list of houses in each group. This line sorts these houses to show the most important ones first. It's like putting the most important houses at the top of the list.\n",
        "\n",
        "terms = vectorizer.get_feature_names_out(): These are like the features of each house, things like size, price, etc. You're getting a list of these features.\n",
        "\n",
        "for i in range(true_k):: This is like saying, \"For each group I found earlier...\"\n",
        "\n",
        "print_cluster(i): You want to show the important houses for each group. You're telling the computer to show the important features of the houses in this group.\n",
        "\n",
        "So, when you run this code, the computer will show you a list for each group. Each list will have the most important features at the top, helping you understand why the houses are in that group. It's like understanding why certain types of houses are grouped together based on their common features."
      ],
      "metadata": {
        "id": "xsmwL4PNPksz"
      }
    },
    {
      "cell_type": "code",
      "source": [],
      "metadata": {
        "id": "nnPQMDcMsPJN"
      },
      "execution_count": null,
      "outputs": []
    },
    {
      "cell_type": "code",
      "source": [
        "def show_recommendations(product):\n",
        "    #print(\"Cluster ID:\")\n",
        "    Y = vectorizer.transform([product])\n",
        "    prediction = model.predict(Y)\n",
        "    #print(prediction)\n",
        "    print_cluster(prediction[0])"
      ],
      "metadata": {
        "id": "Dcb1emBB01Dp"
      },
      "execution_count": null,
      "outputs": []
    },
    {
      "cell_type": "code",
      "source": [
        "show_recommendations(\"heater\")"
      ],
      "metadata": {
        "colab": {
          "base_uri": "https://localhost:8080/"
        },
        "id": "aege-oSPsPLx",
        "outputId": "1c8f9269-8c90-4106-bf6f-d26238470ecd"
      },
      "execution_count": null,
      "outputs": [
        {
          "output_type": "stream",
          "name": "stdout",
          "text": [
            "Cluster 3:\n",
            " heater\n",
            " water\n",
            " room\n",
            " watt\n",
            " white\n",
            " geyser\n",
            " instant\n",
            " heat\n",
            " fan\n",
            " isi\n"
          ]
        }
      ]
    },
    {
      "cell_type": "code",
      "source": [],
      "metadata": {
        "id": "FnBphKH5RT6c"
      },
      "execution_count": null,
      "outputs": []
    },
    {
      "cell_type": "code",
      "source": [],
      "metadata": {
        "id": "JHztKDuATNb3"
      },
      "execution_count": null,
      "outputs": []
    },
    {
      "cell_type": "code",
      "source": [
        "#The print_cluster() function you provided prints the top terms for a given cluster\n",
        "\n",
        "def return_cluster(product):\n",
        "    Y = vectorizer.transform([product])\n",
        "    prediction = model.predict(Y)\n",
        "    return prediction[0]"
      ],
      "metadata": {
        "id": "J790aIhLTNe4"
      },
      "execution_count": null,
      "outputs": []
    },
    {
      "cell_type": "code",
      "source": [
        "df2 = pd.read_csv('/content/amazon.csv')"
      ],
      "metadata": {
        "id": "j2txSN02ROgX"
      },
      "execution_count": null,
      "outputs": []
    },
    {
      "cell_type": "code",
      "source": [
        "df2['cluster_id'] = df2['product_name'].apply(return_cluster)"
      ],
      "metadata": {
        "id": "xbkjsUrgT8Ik"
      },
      "execution_count": null,
      "outputs": []
    },
    {
      "cell_type": "code",
      "source": [
        "df2 = df2[['product_name', 'cluster_id','img_link']]"
      ],
      "metadata": {
        "id": "_Y7lxeSPRxid"
      },
      "execution_count": null,
      "outputs": []
    },
    {
      "cell_type": "code",
      "source": [
        "df2[631:725]"
      ],
      "metadata": {
        "colab": {
          "base_uri": "https://localhost:8080/",
          "height": 423
        },
        "id": "BRfVGOUNSAPL",
        "outputId": "89f868c3-a6f8-4a49-9020-69f13ab6c46d"
      },
      "execution_count": null,
      "outputs": [
        {
          "output_type": "execute_result",
          "data": {
            "text/plain": [
              "                                          product_name  cluster_id  \\\n",
              "631  Boult Audio Airbass Z20 True Wireless, 40H Bat...           6   \n",
              "632  Portronics Konnect L 1.2M Fast Charging 3A 8 P...           1   \n",
              "633  SanDisk Ultra Flair 64GB USB 3.0 Pen Drive, Mu...           9   \n",
              "634  boAt Xtend Smartwatch with Alexa Built-in, 1.6...           2   \n",
              "635  Tygot Bluetooth Extendable Selfie Sticks with ...           0   \n",
              "..                                                 ...         ...   \n",
              "720  boAt Airdopes 171 in Ear Bluetooth True Wirele...           6   \n",
              "721  Duracell Plus AAA Rechargeable Batteries (750 ...           9   \n",
              "722  tizum HDMI to VGA Adapter Cable 1080P for Proj...           9   \n",
              "723  Samsung 80 cm (32 Inches) Wondertainment Serie...           4   \n",
              "724  Logitech B100 Wired USB Mouse, 3 yr Warranty, ...           0   \n",
              "\n",
              "                                              img_link  \n",
              "631  https://m.media-amazon.com/images/I/31Hjf7KD75...  \n",
              "632  https://m.media-amazon.com/images/I/31VzNhhqif...  \n",
              "633  https://m.media-amazon.com/images/I/317Klchuxe...  \n",
              "634  https://m.media-amazon.com/images/W/WEBP_40237...  \n",
              "635  https://m.media-amazon.com/images/I/41MmsYTi06...  \n",
              "..                                                 ...  \n",
              "720  https://m.media-amazon.com/images/W/WEBP_40237...  \n",
              "721  https://m.media-amazon.com/images/I/418YrbHVLC...  \n",
              "722  https://m.media-amazon.com/images/I/31MIyzg8uz...  \n",
              "723  https://m.media-amazon.com/images/I/51q3+E64az...  \n",
              "724  https://m.media-amazon.com/images/I/31iFF1Kbkp...  \n",
              "\n",
              "[94 rows x 3 columns]"
            ],
            "text/html": [
              "\n",
              "\n",
              "  <div id=\"df-1e7542cf-bd49-41bc-bd8d-b63dbd71c887\">\n",
              "    <div class=\"colab-df-container\">\n",
              "      <div>\n",
              "<style scoped>\n",
              "    .dataframe tbody tr th:only-of-type {\n",
              "        vertical-align: middle;\n",
              "    }\n",
              "\n",
              "    .dataframe tbody tr th {\n",
              "        vertical-align: top;\n",
              "    }\n",
              "\n",
              "    .dataframe thead th {\n",
              "        text-align: right;\n",
              "    }\n",
              "</style>\n",
              "<table border=\"1\" class=\"dataframe\">\n",
              "  <thead>\n",
              "    <tr style=\"text-align: right;\">\n",
              "      <th></th>\n",
              "      <th>product_name</th>\n",
              "      <th>cluster_id</th>\n",
              "      <th>img_link</th>\n",
              "    </tr>\n",
              "  </thead>\n",
              "  <tbody>\n",
              "    <tr>\n",
              "      <th>631</th>\n",
              "      <td>Boult Audio Airbass Z20 True Wireless, 40H Bat...</td>\n",
              "      <td>6</td>\n",
              "      <td>https://m.media-amazon.com/images/I/31Hjf7KD75...</td>\n",
              "    </tr>\n",
              "    <tr>\n",
              "      <th>632</th>\n",
              "      <td>Portronics Konnect L 1.2M Fast Charging 3A 8 P...</td>\n",
              "      <td>1</td>\n",
              "      <td>https://m.media-amazon.com/images/I/31VzNhhqif...</td>\n",
              "    </tr>\n",
              "    <tr>\n",
              "      <th>633</th>\n",
              "      <td>SanDisk Ultra Flair 64GB USB 3.0 Pen Drive, Mu...</td>\n",
              "      <td>9</td>\n",
              "      <td>https://m.media-amazon.com/images/I/317Klchuxe...</td>\n",
              "    </tr>\n",
              "    <tr>\n",
              "      <th>634</th>\n",
              "      <td>boAt Xtend Smartwatch with Alexa Built-in, 1.6...</td>\n",
              "      <td>2</td>\n",
              "      <td>https://m.media-amazon.com/images/W/WEBP_40237...</td>\n",
              "    </tr>\n",
              "    <tr>\n",
              "      <th>635</th>\n",
              "      <td>Tygot Bluetooth Extendable Selfie Sticks with ...</td>\n",
              "      <td>0</td>\n",
              "      <td>https://m.media-amazon.com/images/I/41MmsYTi06...</td>\n",
              "    </tr>\n",
              "    <tr>\n",
              "      <th>...</th>\n",
              "      <td>...</td>\n",
              "      <td>...</td>\n",
              "      <td>...</td>\n",
              "    </tr>\n",
              "    <tr>\n",
              "      <th>720</th>\n",
              "      <td>boAt Airdopes 171 in Ear Bluetooth True Wirele...</td>\n",
              "      <td>6</td>\n",
              "      <td>https://m.media-amazon.com/images/W/WEBP_40237...</td>\n",
              "    </tr>\n",
              "    <tr>\n",
              "      <th>721</th>\n",
              "      <td>Duracell Plus AAA Rechargeable Batteries (750 ...</td>\n",
              "      <td>9</td>\n",
              "      <td>https://m.media-amazon.com/images/I/418YrbHVLC...</td>\n",
              "    </tr>\n",
              "    <tr>\n",
              "      <th>722</th>\n",
              "      <td>tizum HDMI to VGA Adapter Cable 1080P for Proj...</td>\n",
              "      <td>9</td>\n",
              "      <td>https://m.media-amazon.com/images/I/31MIyzg8uz...</td>\n",
              "    </tr>\n",
              "    <tr>\n",
              "      <th>723</th>\n",
              "      <td>Samsung 80 cm (32 Inches) Wondertainment Serie...</td>\n",
              "      <td>4</td>\n",
              "      <td>https://m.media-amazon.com/images/I/51q3+E64az...</td>\n",
              "    </tr>\n",
              "    <tr>\n",
              "      <th>724</th>\n",
              "      <td>Logitech B100 Wired USB Mouse, 3 yr Warranty, ...</td>\n",
              "      <td>0</td>\n",
              "      <td>https://m.media-amazon.com/images/I/31iFF1Kbkp...</td>\n",
              "    </tr>\n",
              "  </tbody>\n",
              "</table>\n",
              "<p>94 rows × 3 columns</p>\n",
              "</div>\n",
              "      <button class=\"colab-df-convert\" onclick=\"convertToInteractive('df-1e7542cf-bd49-41bc-bd8d-b63dbd71c887')\"\n",
              "              title=\"Convert this dataframe to an interactive table.\"\n",
              "              style=\"display:none;\">\n",
              "\n",
              "  <svg xmlns=\"http://www.w3.org/2000/svg\" height=\"24px\"viewBox=\"0 0 24 24\"\n",
              "       width=\"24px\">\n",
              "    <path d=\"M0 0h24v24H0V0z\" fill=\"none\"/>\n",
              "    <path d=\"M18.56 5.44l.94 2.06.94-2.06 2.06-.94-2.06-.94-.94-2.06-.94 2.06-2.06.94zm-11 1L8.5 8.5l.94-2.06 2.06-.94-2.06-.94L8.5 2.5l-.94 2.06-2.06.94zm10 10l.94 2.06.94-2.06 2.06-.94-2.06-.94-.94-2.06-.94 2.06-2.06.94z\"/><path d=\"M17.41 7.96l-1.37-1.37c-.4-.4-.92-.59-1.43-.59-.52 0-1.04.2-1.43.59L10.3 9.45l-7.72 7.72c-.78.78-.78 2.05 0 2.83L4 21.41c.39.39.9.59 1.41.59.51 0 1.02-.2 1.41-.59l7.78-7.78 2.81-2.81c.8-.78.8-2.07 0-2.86zM5.41 20L4 18.59l7.72-7.72 1.47 1.35L5.41 20z\"/>\n",
              "  </svg>\n",
              "      </button>\n",
              "\n",
              "\n",
              "\n",
              "    <div id=\"df-4d76611f-f580-47a6-bfd0-f0c29ee09fb3\">\n",
              "      <button class=\"colab-df-quickchart\" onclick=\"quickchart('df-4d76611f-f580-47a6-bfd0-f0c29ee09fb3')\"\n",
              "              title=\"Suggest charts.\"\n",
              "              style=\"display:none;\">\n",
              "\n",
              "<svg xmlns=\"http://www.w3.org/2000/svg\" height=\"24px\"viewBox=\"0 0 24 24\"\n",
              "     width=\"24px\">\n",
              "    <g>\n",
              "        <path d=\"M19 3H5c-1.1 0-2 .9-2 2v14c0 1.1.9 2 2 2h14c1.1 0 2-.9 2-2V5c0-1.1-.9-2-2-2zM9 17H7v-7h2v7zm4 0h-2V7h2v10zm4 0h-2v-4h2v4z\"/>\n",
              "    </g>\n",
              "</svg>\n",
              "      </button>\n",
              "    </div>\n",
              "\n",
              "<style>\n",
              "  .colab-df-quickchart {\n",
              "    background-color: #E8F0FE;\n",
              "    border: none;\n",
              "    border-radius: 50%;\n",
              "    cursor: pointer;\n",
              "    display: none;\n",
              "    fill: #1967D2;\n",
              "    height: 32px;\n",
              "    padding: 0 0 0 0;\n",
              "    width: 32px;\n",
              "  }\n",
              "\n",
              "  .colab-df-quickchart:hover {\n",
              "    background-color: #E2EBFA;\n",
              "    box-shadow: 0px 1px 2px rgba(60, 64, 67, 0.3), 0px 1px 3px 1px rgba(60, 64, 67, 0.15);\n",
              "    fill: #174EA6;\n",
              "  }\n",
              "\n",
              "  [theme=dark] .colab-df-quickchart {\n",
              "    background-color: #3B4455;\n",
              "    fill: #D2E3FC;\n",
              "  }\n",
              "\n",
              "  [theme=dark] .colab-df-quickchart:hover {\n",
              "    background-color: #434B5C;\n",
              "    box-shadow: 0px 1px 3px 1px rgba(0, 0, 0, 0.15);\n",
              "    filter: drop-shadow(0px 1px 2px rgba(0, 0, 0, 0.3));\n",
              "    fill: #FFFFFF;\n",
              "  }\n",
              "</style>\n",
              "\n",
              "    <script>\n",
              "      async function quickchart(key) {\n",
              "        const containerElement = document.querySelector('#' + key);\n",
              "        const charts = await google.colab.kernel.invokeFunction(\n",
              "            'suggestCharts', [key], {});\n",
              "      }\n",
              "    </script>\n",
              "\n",
              "      <script>\n",
              "\n",
              "function displayQuickchartButton(domScope) {\n",
              "  let quickchartButtonEl =\n",
              "    domScope.querySelector('#df-4d76611f-f580-47a6-bfd0-f0c29ee09fb3 button.colab-df-quickchart');\n",
              "  quickchartButtonEl.style.display =\n",
              "    google.colab.kernel.accessAllowed ? 'block' : 'none';\n",
              "}\n",
              "\n",
              "        displayQuickchartButton(document);\n",
              "      </script>\n",
              "      <style>\n",
              "    .colab-df-container {\n",
              "      display:flex;\n",
              "      flex-wrap:wrap;\n",
              "      gap: 12px;\n",
              "    }\n",
              "\n",
              "    .colab-df-convert {\n",
              "      background-color: #E8F0FE;\n",
              "      border: none;\n",
              "      border-radius: 50%;\n",
              "      cursor: pointer;\n",
              "      display: none;\n",
              "      fill: #1967D2;\n",
              "      height: 32px;\n",
              "      padding: 0 0 0 0;\n",
              "      width: 32px;\n",
              "    }\n",
              "\n",
              "    .colab-df-convert:hover {\n",
              "      background-color: #E2EBFA;\n",
              "      box-shadow: 0px 1px 2px rgba(60, 64, 67, 0.3), 0px 1px 3px 1px rgba(60, 64, 67, 0.15);\n",
              "      fill: #174EA6;\n",
              "    }\n",
              "\n",
              "    [theme=dark] .colab-df-convert {\n",
              "      background-color: #3B4455;\n",
              "      fill: #D2E3FC;\n",
              "    }\n",
              "\n",
              "    [theme=dark] .colab-df-convert:hover {\n",
              "      background-color: #434B5C;\n",
              "      box-shadow: 0px 1px 3px 1px rgba(0, 0, 0, 0.15);\n",
              "      filter: drop-shadow(0px 1px 2px rgba(0, 0, 0, 0.3));\n",
              "      fill: #FFFFFF;\n",
              "    }\n",
              "  </style>\n",
              "\n",
              "      <script>\n",
              "        const buttonEl =\n",
              "          document.querySelector('#df-1e7542cf-bd49-41bc-bd8d-b63dbd71c887 button.colab-df-convert');\n",
              "        buttonEl.style.display =\n",
              "          google.colab.kernel.accessAllowed ? 'block' : 'none';\n",
              "\n",
              "        async function convertToInteractive(key) {\n",
              "          const element = document.querySelector('#df-1e7542cf-bd49-41bc-bd8d-b63dbd71c887');\n",
              "          const dataTable =\n",
              "            await google.colab.kernel.invokeFunction('convertToInteractive',\n",
              "                                                     [key], {});\n",
              "          if (!dataTable) return;\n",
              "\n",
              "          const docLinkHtml = 'Like what you see? Visit the ' +\n",
              "            '<a target=\"_blank\" href=https://colab.research.google.com/notebooks/data_table.ipynb>data table notebook</a>'\n",
              "            + ' to learn more about interactive tables.';\n",
              "          element.innerHTML = '';\n",
              "          dataTable['output_type'] = 'display_data';\n",
              "          await google.colab.output.renderOutput(dataTable, element);\n",
              "          const docLink = document.createElement('div');\n",
              "          docLink.innerHTML = docLinkHtml;\n",
              "          element.appendChild(docLink);\n",
              "        }\n",
              "      </script>\n",
              "    </div>\n",
              "  </div>\n"
            ]
          },
          "metadata": {},
          "execution_count": 31
        }
      ]
    },
    {
      "cell_type": "code",
      "source": [
        "df2['product_name'][724]"
      ],
      "metadata": {
        "colab": {
          "base_uri": "https://localhost:8080/",
          "height": 36
        },
        "id": "fxcPnrjkSIzr",
        "outputId": "b3e52778-d8dc-4eb7-d54f-809e8fc80795"
      },
      "execution_count": null,
      "outputs": [
        {
          "output_type": "execute_result",
          "data": {
            "text/plain": [
              "'Logitech B100 Wired USB Mouse, 3 yr Warranty, 800 DPI Optical Tracking, Ambidextrous PC/Mac/Laptop - Black'"
            ],
            "application/vnd.google.colaboratory.intrinsic+json": {
              "type": "string"
            }
          },
          "metadata": {},
          "execution_count": 32
        }
      ]
    },
    {
      "cell_type": "code",
      "source": [
        "df2[df2['cluster_id']==2]['product_name'].count()"
      ],
      "metadata": {
        "colab": {
          "base_uri": "https://localhost:8080/"
        },
        "id": "mFOOvBOMXJ7o",
        "outputId": "f61e9a84-58a5-4a5a-e502-36cb4097b528"
      },
      "execution_count": null,
      "outputs": [
        {
          "output_type": "execute_result",
          "data": {
            "text/plain": [
              "70"
            ]
          },
          "metadata": {},
          "execution_count": 33
        }
      ]
    },
    {
      "cell_type": "code",
      "source": [
        "df2[df2['cluster_id']==2].tail(30)"
      ],
      "metadata": {
        "colab": {
          "base_uri": "https://localhost:8080/",
          "height": 990
        },
        "id": "egZsDKERfjR9",
        "outputId": "b99e1930-1603-4b5f-fedd-21d66d6a9d4f"
      },
      "execution_count": null,
      "outputs": [
        {
          "output_type": "execute_result",
          "data": {
            "text/plain": [
              "                                          product_name  cluster_id  \\\n",
              "517  Fire-Boltt Ninja 3 Smartwatch Full Touch 1.69 ...           2   \n",
              "525  boAt Newly Launched Wave Electra with 1.81\" HD...           2   \n",
              "545  SHREENOVA ID116 Plus Bluetooth Fitness Smart W...           2   \n",
              "549  10WeRun Id-116 Bluetooth Smartwatch Wireless F...           2   \n",
              "550  Tokdis MX-1 Pro Bluetooth Calling Smartwatch -...           2   \n",
              "553  Noise ColorFit Ultra 2 Buzz 1.78\" AMOLED Bluet...           2   \n",
              "559  Fire-Boltt Ninja 3 Smartwatch Full Touch 1.69 ...           2   \n",
              "573  Noise ColorFit Pulse Grand Smart Watch with 1....           2   \n",
              "574  Fire-Boltt Visionary 1.78\" AMOLED Bluetooth Ca...           2   \n",
              "579  Fire-Boltt Tank 1.85\" Bluetooth Calling Smart ...           2   \n",
              "586  Fire-Boltt Phoenix Smart Watch with Bluetooth ...           2   \n",
              "587  boAt Wave Call Smart Watch, Smart Talk with Ad...           2   \n",
              "594  Noise Pulse Go Buzz Smart Watch Bluetooth Call...           2   \n",
              "600  boAt Wave Lite Smartwatch with 1.69\" HD Displa...           2   \n",
              "607  Noise ColorFit Pulse Grand Smart Watch with 1....           2   \n",
              "608  Fire-Boltt Ninja 3 Smartwatch Full Touch 1.69 ...           2   \n",
              "611  Fire-Boltt India's No 1 Smartwatch Brand Talk ...           2   \n",
              "619  Fire-Boltt Visionary 1.78\" AMOLED Bluetooth Ca...           2   \n",
              "624  Noise ColorFit Pro 4 Advanced Bluetooth Callin...           2   \n",
              "634  boAt Xtend Smartwatch with Alexa Built-in, 1.6...           2   \n",
              "677  boAt Xtend Smartwatch with Alexa Built-in, 1.6...           2   \n",
              "694  Noise ColorFit Pulse Smartwatch with 3.56 cm (...           2   \n",
              "704  Fire-Boltt Ring 3 Smart Watch 1.8 Biggest Disp...           2   \n",
              "725  Noise Pulse Buzz 1.69\" Bluetooth Calling Smart...           2   \n",
              "745  Noise ColorFit Pro 2 Full Touch Control Smart ...           2   \n",
              "749  Fire-Boltt India's No 1 Smartwatch Brand Ring ...           2   \n",
              "766  boAt Flash Edition Smart Watch with Activity T...           2   \n",
              "827  Fire-Boltt Ninja Calling 1.69\" Bluetooth Calli...           2   \n",
              "862  Noise ColorFit Ultra Buzz Bluetooth Calling Sm...           2   \n",
              "945  Amazfit GTS2 Mini (New Version) Smart Watch wi...           2   \n",
              "\n",
              "                                              img_link  \n",
              "517  https://m.media-amazon.com/images/I/41-IPkI1Y5...  \n",
              "525  https://m.media-amazon.com/images/I/41LDspRanI...  \n",
              "545  https://m.media-amazon.com/images/I/41lnTFZGz9...  \n",
              "549  https://m.media-amazon.com/images/I/41YwW+O-SK...  \n",
              "550  https://m.media-amazon.com/images/I/31M4nb0+JK...  \n",
              "553  https://m.media-amazon.com/images/I/41wlZ0cZCh...  \n",
              "559  https://m.media-amazon.com/images/I/41GwFR981C...  \n",
              "573  https://m.media-amazon.com/images/I/412dSHwBHG...  \n",
              "574  https://m.media-amazon.com/images/I/41dtbrNRHd...  \n",
              "579  https://m.media-amazon.com/images/I/41vQwUamFc...  \n",
              "586  https://m.media-amazon.com/images/I/41sHRWXCfv...  \n",
              "587  https://m.media-amazon.com/images/I/41d69zua5L...  \n",
              "594  https://m.media-amazon.com/images/W/WEBP_40237...  \n",
              "600  https://m.media-amazon.com/images/W/WEBP_40237...  \n",
              "607  https://m.media-amazon.com/images/W/WEBP_40237...  \n",
              "608  https://m.media-amazon.com/images/W/WEBP_40237...  \n",
              "611  https://m.media-amazon.com/images/I/41Mce3f9fa...  \n",
              "619  https://m.media-amazon.com/images/I/41r1d8a2WG...  \n",
              "624  https://m.media-amazon.com/images/I/413x7j3Z30...  \n",
              "634  https://m.media-amazon.com/images/W/WEBP_40237...  \n",
              "677  https://m.media-amazon.com/images/I/41pfjyUPZL...  \n",
              "694  https://m.media-amazon.com/images/W/WEBP_40237...  \n",
              "704  https://m.media-amazon.com/images/I/41ziJKWj9L...  \n",
              "725  https://m.media-amazon.com/images/W/WEBP_40237...  \n",
              "745  https://m.media-amazon.com/images/W/WEBP_40237...  \n",
              "749  https://m.media-amazon.com/images/W/WEBP_40237...  \n",
              "766  https://m.media-amazon.com/images/W/WEBP_40237...  \n",
              "827  https://m.media-amazon.com/images/W/WEBP_40237...  \n",
              "862  https://m.media-amazon.com/images/W/WEBP_40237...  \n",
              "945  https://m.media-amazon.com/images/W/WEBP_40237...  "
            ],
            "text/html": [
              "\n",
              "\n",
              "  <div id=\"df-a9963b73-44d4-40b0-884b-8ce8c4bcdd74\">\n",
              "    <div class=\"colab-df-container\">\n",
              "      <div>\n",
              "<style scoped>\n",
              "    .dataframe tbody tr th:only-of-type {\n",
              "        vertical-align: middle;\n",
              "    }\n",
              "\n",
              "    .dataframe tbody tr th {\n",
              "        vertical-align: top;\n",
              "    }\n",
              "\n",
              "    .dataframe thead th {\n",
              "        text-align: right;\n",
              "    }\n",
              "</style>\n",
              "<table border=\"1\" class=\"dataframe\">\n",
              "  <thead>\n",
              "    <tr style=\"text-align: right;\">\n",
              "      <th></th>\n",
              "      <th>product_name</th>\n",
              "      <th>cluster_id</th>\n",
              "      <th>img_link</th>\n",
              "    </tr>\n",
              "  </thead>\n",
              "  <tbody>\n",
              "    <tr>\n",
              "      <th>517</th>\n",
              "      <td>Fire-Boltt Ninja 3 Smartwatch Full Touch 1.69 ...</td>\n",
              "      <td>2</td>\n",
              "      <td>https://m.media-amazon.com/images/I/41-IPkI1Y5...</td>\n",
              "    </tr>\n",
              "    <tr>\n",
              "      <th>525</th>\n",
              "      <td>boAt Newly Launched Wave Electra with 1.81\" HD...</td>\n",
              "      <td>2</td>\n",
              "      <td>https://m.media-amazon.com/images/I/41LDspRanI...</td>\n",
              "    </tr>\n",
              "    <tr>\n",
              "      <th>545</th>\n",
              "      <td>SHREENOVA ID116 Plus Bluetooth Fitness Smart W...</td>\n",
              "      <td>2</td>\n",
              "      <td>https://m.media-amazon.com/images/I/41lnTFZGz9...</td>\n",
              "    </tr>\n",
              "    <tr>\n",
              "      <th>549</th>\n",
              "      <td>10WeRun Id-116 Bluetooth Smartwatch Wireless F...</td>\n",
              "      <td>2</td>\n",
              "      <td>https://m.media-amazon.com/images/I/41YwW+O-SK...</td>\n",
              "    </tr>\n",
              "    <tr>\n",
              "      <th>550</th>\n",
              "      <td>Tokdis MX-1 Pro Bluetooth Calling Smartwatch -...</td>\n",
              "      <td>2</td>\n",
              "      <td>https://m.media-amazon.com/images/I/31M4nb0+JK...</td>\n",
              "    </tr>\n",
              "    <tr>\n",
              "      <th>553</th>\n",
              "      <td>Noise ColorFit Ultra 2 Buzz 1.78\" AMOLED Bluet...</td>\n",
              "      <td>2</td>\n",
              "      <td>https://m.media-amazon.com/images/I/41wlZ0cZCh...</td>\n",
              "    </tr>\n",
              "    <tr>\n",
              "      <th>559</th>\n",
              "      <td>Fire-Boltt Ninja 3 Smartwatch Full Touch 1.69 ...</td>\n",
              "      <td>2</td>\n",
              "      <td>https://m.media-amazon.com/images/I/41GwFR981C...</td>\n",
              "    </tr>\n",
              "    <tr>\n",
              "      <th>573</th>\n",
              "      <td>Noise ColorFit Pulse Grand Smart Watch with 1....</td>\n",
              "      <td>2</td>\n",
              "      <td>https://m.media-amazon.com/images/I/412dSHwBHG...</td>\n",
              "    </tr>\n",
              "    <tr>\n",
              "      <th>574</th>\n",
              "      <td>Fire-Boltt Visionary 1.78\" AMOLED Bluetooth Ca...</td>\n",
              "      <td>2</td>\n",
              "      <td>https://m.media-amazon.com/images/I/41dtbrNRHd...</td>\n",
              "    </tr>\n",
              "    <tr>\n",
              "      <th>579</th>\n",
              "      <td>Fire-Boltt Tank 1.85\" Bluetooth Calling Smart ...</td>\n",
              "      <td>2</td>\n",
              "      <td>https://m.media-amazon.com/images/I/41vQwUamFc...</td>\n",
              "    </tr>\n",
              "    <tr>\n",
              "      <th>586</th>\n",
              "      <td>Fire-Boltt Phoenix Smart Watch with Bluetooth ...</td>\n",
              "      <td>2</td>\n",
              "      <td>https://m.media-amazon.com/images/I/41sHRWXCfv...</td>\n",
              "    </tr>\n",
              "    <tr>\n",
              "      <th>587</th>\n",
              "      <td>boAt Wave Call Smart Watch, Smart Talk with Ad...</td>\n",
              "      <td>2</td>\n",
              "      <td>https://m.media-amazon.com/images/I/41d69zua5L...</td>\n",
              "    </tr>\n",
              "    <tr>\n",
              "      <th>594</th>\n",
              "      <td>Noise Pulse Go Buzz Smart Watch Bluetooth Call...</td>\n",
              "      <td>2</td>\n",
              "      <td>https://m.media-amazon.com/images/W/WEBP_40237...</td>\n",
              "    </tr>\n",
              "    <tr>\n",
              "      <th>600</th>\n",
              "      <td>boAt Wave Lite Smartwatch with 1.69\" HD Displa...</td>\n",
              "      <td>2</td>\n",
              "      <td>https://m.media-amazon.com/images/W/WEBP_40237...</td>\n",
              "    </tr>\n",
              "    <tr>\n",
              "      <th>607</th>\n",
              "      <td>Noise ColorFit Pulse Grand Smart Watch with 1....</td>\n",
              "      <td>2</td>\n",
              "      <td>https://m.media-amazon.com/images/W/WEBP_40237...</td>\n",
              "    </tr>\n",
              "    <tr>\n",
              "      <th>608</th>\n",
              "      <td>Fire-Boltt Ninja 3 Smartwatch Full Touch 1.69 ...</td>\n",
              "      <td>2</td>\n",
              "      <td>https://m.media-amazon.com/images/W/WEBP_40237...</td>\n",
              "    </tr>\n",
              "    <tr>\n",
              "      <th>611</th>\n",
              "      <td>Fire-Boltt India's No 1 Smartwatch Brand Talk ...</td>\n",
              "      <td>2</td>\n",
              "      <td>https://m.media-amazon.com/images/I/41Mce3f9fa...</td>\n",
              "    </tr>\n",
              "    <tr>\n",
              "      <th>619</th>\n",
              "      <td>Fire-Boltt Visionary 1.78\" AMOLED Bluetooth Ca...</td>\n",
              "      <td>2</td>\n",
              "      <td>https://m.media-amazon.com/images/I/41r1d8a2WG...</td>\n",
              "    </tr>\n",
              "    <tr>\n",
              "      <th>624</th>\n",
              "      <td>Noise ColorFit Pro 4 Advanced Bluetooth Callin...</td>\n",
              "      <td>2</td>\n",
              "      <td>https://m.media-amazon.com/images/I/413x7j3Z30...</td>\n",
              "    </tr>\n",
              "    <tr>\n",
              "      <th>634</th>\n",
              "      <td>boAt Xtend Smartwatch with Alexa Built-in, 1.6...</td>\n",
              "      <td>2</td>\n",
              "      <td>https://m.media-amazon.com/images/W/WEBP_40237...</td>\n",
              "    </tr>\n",
              "    <tr>\n",
              "      <th>677</th>\n",
              "      <td>boAt Xtend Smartwatch with Alexa Built-in, 1.6...</td>\n",
              "      <td>2</td>\n",
              "      <td>https://m.media-amazon.com/images/I/41pfjyUPZL...</td>\n",
              "    </tr>\n",
              "    <tr>\n",
              "      <th>694</th>\n",
              "      <td>Noise ColorFit Pulse Smartwatch with 3.56 cm (...</td>\n",
              "      <td>2</td>\n",
              "      <td>https://m.media-amazon.com/images/W/WEBP_40237...</td>\n",
              "    </tr>\n",
              "    <tr>\n",
              "      <th>704</th>\n",
              "      <td>Fire-Boltt Ring 3 Smart Watch 1.8 Biggest Disp...</td>\n",
              "      <td>2</td>\n",
              "      <td>https://m.media-amazon.com/images/I/41ziJKWj9L...</td>\n",
              "    </tr>\n",
              "    <tr>\n",
              "      <th>725</th>\n",
              "      <td>Noise Pulse Buzz 1.69\" Bluetooth Calling Smart...</td>\n",
              "      <td>2</td>\n",
              "      <td>https://m.media-amazon.com/images/W/WEBP_40237...</td>\n",
              "    </tr>\n",
              "    <tr>\n",
              "      <th>745</th>\n",
              "      <td>Noise ColorFit Pro 2 Full Touch Control Smart ...</td>\n",
              "      <td>2</td>\n",
              "      <td>https://m.media-amazon.com/images/W/WEBP_40237...</td>\n",
              "    </tr>\n",
              "    <tr>\n",
              "      <th>749</th>\n",
              "      <td>Fire-Boltt India's No 1 Smartwatch Brand Ring ...</td>\n",
              "      <td>2</td>\n",
              "      <td>https://m.media-amazon.com/images/W/WEBP_40237...</td>\n",
              "    </tr>\n",
              "    <tr>\n",
              "      <th>766</th>\n",
              "      <td>boAt Flash Edition Smart Watch with Activity T...</td>\n",
              "      <td>2</td>\n",
              "      <td>https://m.media-amazon.com/images/W/WEBP_40237...</td>\n",
              "    </tr>\n",
              "    <tr>\n",
              "      <th>827</th>\n",
              "      <td>Fire-Boltt Ninja Calling 1.69\" Bluetooth Calli...</td>\n",
              "      <td>2</td>\n",
              "      <td>https://m.media-amazon.com/images/W/WEBP_40237...</td>\n",
              "    </tr>\n",
              "    <tr>\n",
              "      <th>862</th>\n",
              "      <td>Noise ColorFit Ultra Buzz Bluetooth Calling Sm...</td>\n",
              "      <td>2</td>\n",
              "      <td>https://m.media-amazon.com/images/W/WEBP_40237...</td>\n",
              "    </tr>\n",
              "    <tr>\n",
              "      <th>945</th>\n",
              "      <td>Amazfit GTS2 Mini (New Version) Smart Watch wi...</td>\n",
              "      <td>2</td>\n",
              "      <td>https://m.media-amazon.com/images/W/WEBP_40237...</td>\n",
              "    </tr>\n",
              "  </tbody>\n",
              "</table>\n",
              "</div>\n",
              "      <button class=\"colab-df-convert\" onclick=\"convertToInteractive('df-a9963b73-44d4-40b0-884b-8ce8c4bcdd74')\"\n",
              "              title=\"Convert this dataframe to an interactive table.\"\n",
              "              style=\"display:none;\">\n",
              "\n",
              "  <svg xmlns=\"http://www.w3.org/2000/svg\" height=\"24px\"viewBox=\"0 0 24 24\"\n",
              "       width=\"24px\">\n",
              "    <path d=\"M0 0h24v24H0V0z\" fill=\"none\"/>\n",
              "    <path d=\"M18.56 5.44l.94 2.06.94-2.06 2.06-.94-2.06-.94-.94-2.06-.94 2.06-2.06.94zm-11 1L8.5 8.5l.94-2.06 2.06-.94-2.06-.94L8.5 2.5l-.94 2.06-2.06.94zm10 10l.94 2.06.94-2.06 2.06-.94-2.06-.94-.94-2.06-.94 2.06-2.06.94z\"/><path d=\"M17.41 7.96l-1.37-1.37c-.4-.4-.92-.59-1.43-.59-.52 0-1.04.2-1.43.59L10.3 9.45l-7.72 7.72c-.78.78-.78 2.05 0 2.83L4 21.41c.39.39.9.59 1.41.59.51 0 1.02-.2 1.41-.59l7.78-7.78 2.81-2.81c.8-.78.8-2.07 0-2.86zM5.41 20L4 18.59l7.72-7.72 1.47 1.35L5.41 20z\"/>\n",
              "  </svg>\n",
              "      </button>\n",
              "\n",
              "\n",
              "\n",
              "    <div id=\"df-52094c39-3f3c-4aaa-907d-84790e8eede0\">\n",
              "      <button class=\"colab-df-quickchart\" onclick=\"quickchart('df-52094c39-3f3c-4aaa-907d-84790e8eede0')\"\n",
              "              title=\"Suggest charts.\"\n",
              "              style=\"display:none;\">\n",
              "\n",
              "<svg xmlns=\"http://www.w3.org/2000/svg\" height=\"24px\"viewBox=\"0 0 24 24\"\n",
              "     width=\"24px\">\n",
              "    <g>\n",
              "        <path d=\"M19 3H5c-1.1 0-2 .9-2 2v14c0 1.1.9 2 2 2h14c1.1 0 2-.9 2-2V5c0-1.1-.9-2-2-2zM9 17H7v-7h2v7zm4 0h-2V7h2v10zm4 0h-2v-4h2v4z\"/>\n",
              "    </g>\n",
              "</svg>\n",
              "      </button>\n",
              "    </div>\n",
              "\n",
              "<style>\n",
              "  .colab-df-quickchart {\n",
              "    background-color: #E8F0FE;\n",
              "    border: none;\n",
              "    border-radius: 50%;\n",
              "    cursor: pointer;\n",
              "    display: none;\n",
              "    fill: #1967D2;\n",
              "    height: 32px;\n",
              "    padding: 0 0 0 0;\n",
              "    width: 32px;\n",
              "  }\n",
              "\n",
              "  .colab-df-quickchart:hover {\n",
              "    background-color: #E2EBFA;\n",
              "    box-shadow: 0px 1px 2px rgba(60, 64, 67, 0.3), 0px 1px 3px 1px rgba(60, 64, 67, 0.15);\n",
              "    fill: #174EA6;\n",
              "  }\n",
              "\n",
              "  [theme=dark] .colab-df-quickchart {\n",
              "    background-color: #3B4455;\n",
              "    fill: #D2E3FC;\n",
              "  }\n",
              "\n",
              "  [theme=dark] .colab-df-quickchart:hover {\n",
              "    background-color: #434B5C;\n",
              "    box-shadow: 0px 1px 3px 1px rgba(0, 0, 0, 0.15);\n",
              "    filter: drop-shadow(0px 1px 2px rgba(0, 0, 0, 0.3));\n",
              "    fill: #FFFFFF;\n",
              "  }\n",
              "</style>\n",
              "\n",
              "    <script>\n",
              "      async function quickchart(key) {\n",
              "        const containerElement = document.querySelector('#' + key);\n",
              "        const charts = await google.colab.kernel.invokeFunction(\n",
              "            'suggestCharts', [key], {});\n",
              "      }\n",
              "    </script>\n",
              "\n",
              "      <script>\n",
              "\n",
              "function displayQuickchartButton(domScope) {\n",
              "  let quickchartButtonEl =\n",
              "    domScope.querySelector('#df-52094c39-3f3c-4aaa-907d-84790e8eede0 button.colab-df-quickchart');\n",
              "  quickchartButtonEl.style.display =\n",
              "    google.colab.kernel.accessAllowed ? 'block' : 'none';\n",
              "}\n",
              "\n",
              "        displayQuickchartButton(document);\n",
              "      </script>\n",
              "      <style>\n",
              "    .colab-df-container {\n",
              "      display:flex;\n",
              "      flex-wrap:wrap;\n",
              "      gap: 12px;\n",
              "    }\n",
              "\n",
              "    .colab-df-convert {\n",
              "      background-color: #E8F0FE;\n",
              "      border: none;\n",
              "      border-radius: 50%;\n",
              "      cursor: pointer;\n",
              "      display: none;\n",
              "      fill: #1967D2;\n",
              "      height: 32px;\n",
              "      padding: 0 0 0 0;\n",
              "      width: 32px;\n",
              "    }\n",
              "\n",
              "    .colab-df-convert:hover {\n",
              "      background-color: #E2EBFA;\n",
              "      box-shadow: 0px 1px 2px rgba(60, 64, 67, 0.3), 0px 1px 3px 1px rgba(60, 64, 67, 0.15);\n",
              "      fill: #174EA6;\n",
              "    }\n",
              "\n",
              "    [theme=dark] .colab-df-convert {\n",
              "      background-color: #3B4455;\n",
              "      fill: #D2E3FC;\n",
              "    }\n",
              "\n",
              "    [theme=dark] .colab-df-convert:hover {\n",
              "      background-color: #434B5C;\n",
              "      box-shadow: 0px 1px 3px 1px rgba(0, 0, 0, 0.15);\n",
              "      filter: drop-shadow(0px 1px 2px rgba(0, 0, 0, 0.3));\n",
              "      fill: #FFFFFF;\n",
              "    }\n",
              "  </style>\n",
              "\n",
              "      <script>\n",
              "        const buttonEl =\n",
              "          document.querySelector('#df-a9963b73-44d4-40b0-884b-8ce8c4bcdd74 button.colab-df-convert');\n",
              "        buttonEl.style.display =\n",
              "          google.colab.kernel.accessAllowed ? 'block' : 'none';\n",
              "\n",
              "        async function convertToInteractive(key) {\n",
              "          const element = document.querySelector('#df-a9963b73-44d4-40b0-884b-8ce8c4bcdd74');\n",
              "          const dataTable =\n",
              "            await google.colab.kernel.invokeFunction('convertToInteractive',\n",
              "                                                     [key], {});\n",
              "          if (!dataTable) return;\n",
              "\n",
              "          const docLinkHtml = 'Like what you see? Visit the ' +\n",
              "            '<a target=\"_blank\" href=https://colab.research.google.com/notebooks/data_table.ipynb>data table notebook</a>'\n",
              "            + ' to learn more about interactive tables.';\n",
              "          element.innerHTML = '';\n",
              "          dataTable['output_type'] = 'display_data';\n",
              "          await google.colab.output.renderOutput(dataTable, element);\n",
              "          const docLink = document.createElement('div');\n",
              "          docLink.innerHTML = docLinkHtml;\n",
              "          element.appendChild(docLink);\n",
              "        }\n",
              "      </script>\n",
              "    </div>\n",
              "  </div>\n"
            ]
          },
          "metadata": {},
          "execution_count": 34
        }
      ]
    },
    {
      "cell_type": "code",
      "source": [],
      "metadata": {
        "id": "hYapBm2jy4_c"
      },
      "execution_count": null,
      "outputs": []
    },
    {
      "cell_type": "code",
      "source": [
        "import pickle"
      ],
      "metadata": {
        "id": "ol36yID3y5Bz"
      },
      "execution_count": null,
      "outputs": []
    },
    {
      "cell_type": "code",
      "source": [
        "# Save the trained model to a file\n",
        "with open('kmeans_model.pkl', 'wb') as file:\n",
        "    pickle.dump(model, file)"
      ],
      "metadata": {
        "id": "4uZZHuTKy5EP"
      },
      "execution_count": null,
      "outputs": []
    },
    {
      "cell_type": "code",
      "source": [
        "# Save the vectorizer to a file\n",
        "with open('vectorizer.pkl', 'wb') as file:\n",
        "    pickle.dump(vectorizer, file)"
      ],
      "metadata": {
        "id": "IiEhDSRvy5Gs"
      },
      "execution_count": null,
      "outputs": []
    },
    {
      "cell_type": "code",
      "source": [
        "df2.to_csv(\"testing.csv\", index=False)"
      ],
      "metadata": {
        "id": "ECiKk2F7y5KJ"
      },
      "execution_count": null,
      "outputs": []
    }
  ]
}
